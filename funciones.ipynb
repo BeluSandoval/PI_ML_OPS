{
 "cells": [
  {
   "attachments": {},
   "cell_type": "markdown",
   "metadata": {},
   "source": [
    "funcion 1"
   ]
  },
  {
   "cell_type": "code",
   "execution_count": null,
   "metadata": {},
   "outputs": [],
   "source": [
    "import pandas as pd\n",
    "\n",
    "# Creamos un diccionario para convertir nombres de meses a números\n",
    "meses = {'enero': 1, 'febrero': 2, 'marzo': 3, 'abril': 4, 'mayo': 5, 'junio': 6,\n",
    "         'julio': 7, 'agosto': 8, 'septiembre': 9, 'octubre': 10, 'noviembre': 11, 'diciembre': 12}\n",
    "\n",
    "# Definimos la función peliculas_mes\n",
    "def peliculas_mes(mes):\n",
    "    # Convertimos el mes a su representación numérica utilizando el diccionario\n",
    "    mes_num = meses[mes.lower()]\n",
    "    \n",
    "    # Filtramos las filas del dataframe por el mes correspondiente\n",
    "    peliculas_mes = df.loc[df['release_date'].dt.month == mes_num]\n",
    "    \n",
    "    # Contamos el número de filas filtradas y devolvemos el resultado como un diccionario\n",
    "    respuesta = len(peliculas_mes)\n",
    "    return {'mes': mes, 'cantidad': respuesta}"
   ]
  },
  {
   "cell_type": "code",
   "execution_count": null,
   "metadata": {},
   "outputs": [],
   "source": [
    "peliculas_mes('enero')"
   ]
  },
  {
   "attachments": {},
   "cell_type": "markdown",
   "metadata": {},
   "source": [
    "funcion 2"
   ]
  },
  {
   "cell_type": "code",
   "execution_count": null,
   "metadata": {},
   "outputs": [],
   "source": [
    "def peliculas_dia(dia):\n",
    "    dias_semana = ['lunes', 'martes', 'miércoles', 'jueves', 'viernes', 'sábado', 'domingo']\n",
    "    if dia.lower() not in dias_semana:\n",
    "        return {'dia': dia, 'cantidad': 0}\n",
    "    else:\n",
    "        dia_df = df[df['day_of_week'] == dia.lower()]\n",
    "        cantidad = len(dia_df)\n",
    "        return {'dia': dia, 'cantidad': cantidad}\n"
   ]
  },
  {
   "cell_type": "code",
   "execution_count": null,
   "metadata": {},
   "outputs": [],
   "source": [
    "peliculas_dia('lunes')"
   ]
  },
  {
   "attachments": {},
   "cell_type": "markdown",
   "metadata": {},
   "source": [
    "Funcion 4"
   ]
  },
  {
   "cell_type": "code",
   "execution_count": null,
   "metadata": {},
   "outputs": [],
   "source": [
    "def peliculas_pais(pais):\n",
    "    # Contar el número de películas que se hicieron en el país especificado\n",
    "    num_peliculas = len(df[df['production_countries'].str.contains(pais)])\n",
    "    \n",
    "    # Crear un diccionario que contenga el país y el número de películas\n",
    "    return {'pais': pais, 'cantidad': num_peliculas}\n"
   ]
  },
  {
   "cell_type": "code",
   "execution_count": null,
   "metadata": {},
   "outputs": [],
   "source": [
    "peliculas_pais('United Kingdom')\n",
    "# Resultado : {'pais': 'United Kingdom', 'cantidad': 4091}"
   ]
  },
  {
   "attachments": {},
   "cell_type": "markdown",
   "metadata": {},
   "source": [
    "Funcion 5"
   ]
  },
  {
   "cell_type": "code",
   "execution_count": null,
   "metadata": {},
   "outputs": [],
   "source": [
    "def productoras(productora):\n",
    "    df_filtrado = df[df['production_companies'].str.contains(productora, na=False)]\n",
    "    ganancia_total = df_filtrado['revenue'].sum()\n",
    "    cantidad = len(df_filtrado)\n",
    "    return {'productora': productora, 'ganancia_total': ganancia_total, 'cantidad': cantidad}"
   ]
  },
  {
   "cell_type": "code",
   "execution_count": null,
   "metadata": {},
   "outputs": [],
   "source": [
    "productoras('Sandollar Productions')\n",
    "# Respuesta : {'productora': 'Sandollar Productions','ganancia_total': 188244181.0,'cantidad': 11}"
   ]
  },
  {
   "attachments": {},
   "cell_type": "markdown",
   "metadata": {},
   "source": [
    "Funcion 6"
   ]
  },
  {
   "cell_type": "code",
   "execution_count": null,
   "metadata": {},
   "outputs": [],
   "source": [
    "def retorno(pelicula):\n",
    " \n",
    "    pelicula_info = df[df['title'] == pelicula]\n",
    "    inversion = pelicula_info['budget']\n",
    "    ganancia = pelicula_info['revenue']\n",
    "    anio = pelicula_info['release_year']\n",
    "    retorno = pelicula_info['return']\n",
    "    return {'pelicula': pelicula, 'inversion': inversion, 'ganancia': ganancia, 'retorno': retorno, 'anio': anio}"
   ]
  }
 ],
 "metadata": {
  "language_info": {
   "name": "python"
  },
  "orig_nbformat": 4
 },
 "nbformat": 4,
 "nbformat_minor": 2
}
