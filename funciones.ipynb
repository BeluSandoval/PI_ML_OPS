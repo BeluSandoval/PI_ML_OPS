{
 "cells": [
  {
   "cell_type": "code",
   "execution_count": 1,
   "metadata": {},
   "outputs": [],
   "source": [
    "import pandas as pd"
   ]
  },
  {
   "cell_type": "code",
   "execution_count": 115,
   "metadata": {},
   "outputs": [
    {
     "name": "stderr",
     "output_type": "stream",
     "text": [
      "C:\\Users\\belen\\AppData\\Local\\Temp\\ipykernel_12292\\2715350356.py:1: DtypeWarning: Columns (6) have mixed types. Specify dtype option on import or set low_memory=False.\n",
      "  df = pd.read_csv(r'df_final.csv')\n"
     ]
    }
   ],
   "source": [
    "df = pd.read_csv(r'df_final.csv')"
   ]
  },
  {
   "cell_type": "code",
   "execution_count": 116,
   "metadata": {},
   "outputs": [],
   "source": [
    "df['release_date'] = pd.to_datetime(df['release_date'], format='%Y-%m-%d', errors='coerce')"
   ]
  },
  {
   "cell_type": "code",
   "execution_count": 15,
   "metadata": {},
   "outputs": [
    {
     "name": "stdout",
     "output_type": "stream",
     "text": [
      "<class 'pandas.core.frame.DataFrame'>\n",
      "RangeIndex: 45379 entries, 0 to 45378\n",
      "Data columns (total 20 columns):\n",
      " #   Column                 Non-Null Count  Dtype         \n",
      "---  ------                 --------------  -----         \n",
      " 0   belongs_to_collection  4491 non-null   object        \n",
      " 1   budget                 45376 non-null  float64       \n",
      " 2   genres                 45379 non-null  object        \n",
      " 3   id                     45379 non-null  object        \n",
      " 4   original_language      45368 non-null  object        \n",
      " 5   overview               44438 non-null  object        \n",
      " 6   popularity             45377 non-null  object        \n",
      " 7   production_companies   45379 non-null  object        \n",
      " 8   production_countries   45379 non-null  object        \n",
      " 9   release_date           45376 non-null  datetime64[ns]\n",
      " 10  revenue                45379 non-null  float64       \n",
      " 11  runtime                45130 non-null  float64       \n",
      " 12  spoken_languages       45376 non-null  object        \n",
      " 13  status                 45296 non-null  object        \n",
      " 14  tagline                20398 non-null  object        \n",
      " 15  title                  45376 non-null  object        \n",
      " 16  vote_average           45376 non-null  float64       \n",
      " 17  release_year           45379 non-null  int64         \n",
      " 18  return                 45379 non-null  float64       \n",
      " 19  day_of_week            45376 non-null  object        \n",
      "dtypes: datetime64[ns](1), float64(5), int64(1), object(13)\n",
      "memory usage: 6.9+ MB\n"
     ]
    }
   ],
   "source": [
    "df.info()"
   ]
  },
  {
   "attachments": {},
   "cell_type": "markdown",
   "metadata": {},
   "source": [
    "funcion 1"
   ]
  },
  {
   "cell_type": "code",
   "execution_count": 119,
   "metadata": {},
   "outputs": [],
   "source": [
    "\n",
    "\n",
    "# Creamos un diccionario para convertir nombres de meses a números\n",
    "# meses = {'enero': 1, 'febrero': 2, 'marzo': 3, 'abril': 4, 'mayo': 5, 'junio': 6,\n",
    "#          'julio': 7, 'agosto': 8, 'septiembre': 9, 'octubre': 10, 'noviembre': 11, 'diciembre': 12}\n",
    "\n",
    "# Definimos la función peliculas_mes\n",
    "def peliculas_mes(mes):\n",
    "    # Creamos un diccionario para convertir nombres de meses a números\n",
    "    meses = {'enero': 1, 'febrero': 2, 'marzo': 3, 'abril': 4, 'mayo': 5, 'junio': 6,\n",
    "         'julio': 7, 'agosto': 8, 'septiembre': 9, 'octubre': 10, 'noviembre': 11, 'diciembre': 12}\n",
    "    # Convertimos el mes a su representación numérica utilizando el diccionario\n",
    "    mes_num = meses[mes.lower()]\n",
    "    \n",
    "    # Filtramos las filas del dataframe por el mes correspondiente\n",
    "    peliculas_mes = df.loc[df['release_date'].dt.month == mes_num]\n",
    "    \n",
    "    # Contamos el número de filas filtradas y devolvemos el resultado como un diccionario\n",
    "    respuesta = len(peliculas_mes)\n",
    "    return {'mes': mes, 'cantidad': respuesta}"
   ]
  },
  {
   "cell_type": "code",
   "execution_count": 120,
   "metadata": {},
   "outputs": [
    {
     "data": {
      "text/plain": [
       "{'mes': 'enero', 'cantidad': 5912}"
      ]
     },
     "execution_count": 120,
     "metadata": {},
     "output_type": "execute_result"
    }
   ],
   "source": [
    "peliculas_mes('enero')"
   ]
  },
  {
   "attachments": {},
   "cell_type": "markdown",
   "metadata": {},
   "source": [
    "funcion 2"
   ]
  },
  {
   "cell_type": "code",
   "execution_count": 5,
   "metadata": {},
   "outputs": [],
   "source": [
    "def peliculas_dia(dia):\n",
    "    dias_semana = ['lunes', 'martes', 'miércoles', 'jueves', 'viernes', 'sábado', 'domingo']\n",
    "    if dia.lower() not in dias_semana:\n",
    "        return {'dia': dia, 'cantidad': 0}\n",
    "    else:\n",
    "        dia_df = df[df['day_of_week'] == dia.lower()]\n",
    "        cantidad = len(dia_df)\n",
    "        return {'dia': dia, 'cantidad': cantidad}\n"
   ]
  },
  {
   "cell_type": "code",
   "execution_count": 6,
   "metadata": {},
   "outputs": [
    {
     "data": {
      "text/plain": [
       "{'dia': 'lunes', 'cantidad': 3503}"
      ]
     },
     "execution_count": 6,
     "metadata": {},
     "output_type": "execute_result"
    }
   ],
   "source": [
    "peliculas_dia('lunes')"
   ]
  },
  {
   "attachments": {},
   "cell_type": "markdown",
   "metadata": {},
   "source": [
    "Funcion 3"
   ]
  },
  {
   "cell_type": "code",
   "execution_count": 124,
   "metadata": {},
   "outputs": [],
   "source": [
    "def franquicia(franquicia):\n",
    "    # Filtrar el DataFrame original para incluir solo filas con información sobre la franquicia\n",
    "    franquicia_df = df[(df['belongs_to_collection'].notna()) & (df['belongs_to_collection'].str.contains(franquicia))]\n",
    "    \n",
    "    # si hay nulos\n",
    "    if franquicia_df.empty:\n",
    "        return \"No se encontro la franquicia\"\n",
    "    \n",
    "    # Obtener la cantidad de películas, la ganancia total y la ganancia promedio\n",
    "    cantidad = franquicia_df.shape[0]\n",
    "    ganancia_total = franquicia_df['revenue'].sum()\n",
    "    ganancia_promedio = ganancia_total / cantidad\n",
    "    \n",
    "    # Retornar la información en un diccionario\n",
    "    return {'franquicia': franquicia, 'cantidad': cantidad, 'ganancia_total': ganancia_total, 'ganancia_promedio': ganancia_promedio}\n"
   ]
  },
  {
   "cell_type": "code",
   "execution_count": 126,
   "metadata": {},
   "outputs": [
    {
     "data": {
      "text/plain": [
       "{'franquicia': 'Toy Story Collection',\n",
       " 'cantidad': 3,\n",
       " 'ganancia_total': 1937890605.0,\n",
       " 'ganancia_promedio': 645963535.0}"
      ]
     },
     "execution_count": 126,
     "metadata": {},
     "output_type": "execute_result"
    }
   ],
   "source": [
    "franquicia('Toy Story Collection')"
   ]
  },
  {
   "attachments": {},
   "cell_type": "markdown",
   "metadata": {},
   "source": [
    "Funcion 4"
   ]
  },
  {
   "cell_type": "code",
   "execution_count": 18,
   "metadata": {},
   "outputs": [],
   "source": [
    "def peliculas_pais(pais):\n",
    "    # Contar el número de películas que se hicieron en el país especificado\n",
    "    num_peliculas = len(df[df['production_countries'].str.contains(pais)])\n",
    "    \n",
    "    # Crear un diccionario que contenga el país y el número de películas\n",
    "    return {'pais': pais, 'cantidad': num_peliculas}\n"
   ]
  },
  {
   "cell_type": "code",
   "execution_count": 19,
   "metadata": {},
   "outputs": [
    {
     "data": {
      "text/plain": [
       "{'pais': 'United Kingdom', 'cantidad': 4091}"
      ]
     },
     "execution_count": 19,
     "metadata": {},
     "output_type": "execute_result"
    }
   ],
   "source": [
    "peliculas_pais('United Kingdom')\n",
    "# Resultado : {'pais': 'United Kingdom', 'cantidad': 4091}"
   ]
  },
  {
   "attachments": {},
   "cell_type": "markdown",
   "metadata": {},
   "source": [
    "Funcion 5"
   ]
  },
  {
   "cell_type": "code",
   "execution_count": 20,
   "metadata": {},
   "outputs": [],
   "source": [
    "def productoras(productora):\n",
    "    df_filtrado = df[df['production_companies'].str.contains(productora, na=False)]\n",
    "    ganancia_total = df_filtrado['revenue'].sum()\n",
    "    cantidad = len(df_filtrado)\n",
    "    return {'productora': productora, 'ganancia_total': ganancia_total, 'cantidad': cantidad}"
   ]
  },
  {
   "cell_type": "code",
   "execution_count": 21,
   "metadata": {},
   "outputs": [
    {
     "data": {
      "text/plain": [
       "{'productora': 'Sandollar Productions',\n",
       " 'ganancia_total': 188244181.0,\n",
       " 'cantidad': 11}"
      ]
     },
     "execution_count": 21,
     "metadata": {},
     "output_type": "execute_result"
    }
   ],
   "source": [
    "productoras('Sandollar Productions')\n",
    "# Respuesta : {'productora': 'Sandollar Productions','ganancia_total': 188244181.0,'cantidad': 11}"
   ]
  },
  {
   "attachments": {},
   "cell_type": "markdown",
   "metadata": {},
   "source": [
    "Funcion 6"
   ]
  },
  {
   "cell_type": "code",
   "execution_count": 127,
   "metadata": {},
   "outputs": [],
   "source": [
    "def retorno(pelicula):\n",
    "    # Filtro la información de la película en base a su título\n",
    "    pelicula_info = df[df['title'] == pelicula].iloc[0]\n",
    "    \n",
    "    # Obtengo la inversión, ganancia, retorno y año de lanzamiento de la película\n",
    "    inversion = pelicula_info['budget']\n",
    "    ganancia = pelicula_info['revenue']\n",
    "    retorno = pelicula_info['return']\n",
    "    anio = pelicula_info['release_year']\n",
    "    \n",
    "    # Retorno la información en un diccionario\n",
    "    return {'pelicula': pelicula, 'inversion': inversion, 'ganancia': ganancia, 'retorno': retorno, 'anio': anio}"
   ]
  },
  {
   "cell_type": "code",
   "execution_count": 128,
   "metadata": {},
   "outputs": [
    {
     "data": {
      "text/plain": [
       "{'pelicula': 'Toy Story',\n",
       " 'inversion': 30000000.0,\n",
       " 'ganancia': 373554033.0,\n",
       " 'retorno': 12.4518011,\n",
       " 'anio': 1995}"
      ]
     },
     "execution_count": 128,
     "metadata": {},
     "output_type": "execute_result"
    }
   ],
   "source": [
    "retorno('Toy Story')"
   ]
  },
  {
   "attachments": {},
   "cell_type": "markdown",
   "metadata": {},
   "source": [
    "-----------------------------------------"
   ]
  },
  {
   "cell_type": "code",
   "execution_count": 37,
   "metadata": {},
   "outputs": [],
   "source": [
    "#Definimos una función para desanidar los datos de las columnas 'production_companies' y 'producion_countries' dejando solo la data relevante.\n",
    "import pandas as pd\n",
    "import re\n",
    "\n",
    "def extraer_datos(df, columna):\n",
    "    # Función para extraer los valores de una cadena, lista o diccionario\n",
    "    def extraer_valores(valor):\n",
    "        if isinstance(valor, str):\n",
    "            # Si es una cadena, extraer los valores con la expresión regular\n",
    "            pattern = r\"'name': '([^']*)'\"\n",
    "            coincidencias = re.findall(pattern, valor)\n",
    "            return coincidencias\n",
    "        elif isinstance(valor, list):\n",
    "            # Si es una lista, extraer los valores de cada elemento de la lista\n",
    "            valores = []\n",
    "            for elemento in valor:\n",
    "                if 'name' in elemento:\n",
    "                    valores.append(elemento['name'])\n",
    "            return valores\n",
    "        elif isinstance(valor, dict):\n",
    "            # Si es un diccionario, extraer los valores de la clave 'name'\n",
    "            if 'name' in valor:\n",
    "                return valor['name']\n",
    "        return None\n",
    "    \n",
    "    # Aplicar la función a la columna y sobrescribir la columna\n",
    "    df[columna] = df[columna].apply(extraer_valores)\n",
    "    \n",
    "    return df"
   ]
  },
  {
   "cell_type": "code",
   "execution_count": 51,
   "metadata": {},
   "outputs": [
    {
     "data": {
      "text/html": [
       "<div>\n",
       "<style scoped>\n",
       "    .dataframe tbody tr th:only-of-type {\n",
       "        vertical-align: middle;\n",
       "    }\n",
       "\n",
       "    .dataframe tbody tr th {\n",
       "        vertical-align: top;\n",
       "    }\n",
       "\n",
       "    .dataframe thead th {\n",
       "        text-align: right;\n",
       "    }\n",
       "</style>\n",
       "<table border=\"1\" class=\"dataframe\">\n",
       "  <thead>\n",
       "    <tr style=\"text-align: right;\">\n",
       "      <th></th>\n",
       "      <th>belongs_to_collection</th>\n",
       "      <th>budget</th>\n",
       "      <th>genres</th>\n",
       "      <th>id</th>\n",
       "      <th>original_language</th>\n",
       "      <th>overview</th>\n",
       "      <th>popularity</th>\n",
       "      <th>production_companies</th>\n",
       "      <th>production_countries</th>\n",
       "      <th>release_date</th>\n",
       "      <th>revenue</th>\n",
       "      <th>runtime</th>\n",
       "      <th>spoken_languages</th>\n",
       "      <th>status</th>\n",
       "      <th>tagline</th>\n",
       "      <th>title</th>\n",
       "      <th>vote_average</th>\n",
       "      <th>release_year</th>\n",
       "      <th>return</th>\n",
       "      <th>day_of_week</th>\n",
       "    </tr>\n",
       "  </thead>\n",
       "  <tbody>\n",
       "    <tr>\n",
       "      <th>0</th>\n",
       "      <td>['Toy Story Collection']</td>\n",
       "      <td>30000000.0</td>\n",
       "      <td>[Animation, Comedy, Family]</td>\n",
       "      <td>862</td>\n",
       "      <td>en</td>\n",
       "      <td>Led by Woody, Andy's toys live happily in his ...</td>\n",
       "      <td>21.946943</td>\n",
       "      <td>['Pixar Animation Studios']</td>\n",
       "      <td>['United States of America']</td>\n",
       "      <td>1995-10-30</td>\n",
       "      <td>373554033.0</td>\n",
       "      <td>81.0</td>\n",
       "      <td>[{'iso_639_1': 'en', 'name': 'English'}]</td>\n",
       "      <td>Released</td>\n",
       "      <td>NaN</td>\n",
       "      <td>Toy Story</td>\n",
       "      <td>7.7</td>\n",
       "      <td>1995</td>\n",
       "      <td>12.451801</td>\n",
       "      <td>lunes</td>\n",
       "    </tr>\n",
       "    <tr>\n",
       "      <th>1</th>\n",
       "      <td>NaN</td>\n",
       "      <td>65000000.0</td>\n",
       "      <td>[Adventure, Fantasy, Family]</td>\n",
       "      <td>8844</td>\n",
       "      <td>en</td>\n",
       "      <td>When siblings Judy and Peter discover an encha...</td>\n",
       "      <td>17.015539</td>\n",
       "      <td>['TriStar Pictures', 'Teitler Film', 'Intersco...</td>\n",
       "      <td>['United States of America']</td>\n",
       "      <td>1995-12-15</td>\n",
       "      <td>262797249.0</td>\n",
       "      <td>104.0</td>\n",
       "      <td>[{'iso_639_1': 'en', 'name': 'English'}, {'iso...</td>\n",
       "      <td>Released</td>\n",
       "      <td>Roll the dice and unleash the excitement!</td>\n",
       "      <td>Jumanji</td>\n",
       "      <td>6.9</td>\n",
       "      <td>1995</td>\n",
       "      <td>4.043035</td>\n",
       "      <td>viernes</td>\n",
       "    </tr>\n",
       "    <tr>\n",
       "      <th>2</th>\n",
       "      <td>['Grumpy Old Men Collection']</td>\n",
       "      <td>0.0</td>\n",
       "      <td>[Romance, Comedy]</td>\n",
       "      <td>15602</td>\n",
       "      <td>en</td>\n",
       "      <td>A family wedding reignites the ancient feud be...</td>\n",
       "      <td>11.7129</td>\n",
       "      <td>['Warner Bros.', 'Lancaster Gate']</td>\n",
       "      <td>['United States of America']</td>\n",
       "      <td>1995-12-22</td>\n",
       "      <td>0.0</td>\n",
       "      <td>101.0</td>\n",
       "      <td>[{'iso_639_1': 'en', 'name': 'English'}]</td>\n",
       "      <td>Released</td>\n",
       "      <td>Still Yelling. Still Fighting. Still Ready for...</td>\n",
       "      <td>Grumpier Old Men</td>\n",
       "      <td>6.5</td>\n",
       "      <td>1995</td>\n",
       "      <td>0.000000</td>\n",
       "      <td>viernes</td>\n",
       "    </tr>\n",
       "    <tr>\n",
       "      <th>3</th>\n",
       "      <td>NaN</td>\n",
       "      <td>16000000.0</td>\n",
       "      <td>[Comedy, Drama, Romance]</td>\n",
       "      <td>31357</td>\n",
       "      <td>en</td>\n",
       "      <td>Cheated on, mistreated and stepped on, the wom...</td>\n",
       "      <td>3.859495</td>\n",
       "      <td>['Twentieth Century Fox Film Corporation']</td>\n",
       "      <td>['United States of America']</td>\n",
       "      <td>1995-12-22</td>\n",
       "      <td>81452156.0</td>\n",
       "      <td>127.0</td>\n",
       "      <td>[{'iso_639_1': 'en', 'name': 'English'}]</td>\n",
       "      <td>Released</td>\n",
       "      <td>Friends are the people who let you be yourself...</td>\n",
       "      <td>Waiting to Exhale</td>\n",
       "      <td>6.1</td>\n",
       "      <td>1995</td>\n",
       "      <td>5.090760</td>\n",
       "      <td>viernes</td>\n",
       "    </tr>\n",
       "    <tr>\n",
       "      <th>4</th>\n",
       "      <td>['Father of the Bride Collection']</td>\n",
       "      <td>0.0</td>\n",
       "      <td>[Comedy]</td>\n",
       "      <td>11862</td>\n",
       "      <td>en</td>\n",
       "      <td>Just when George Banks has recovered from his ...</td>\n",
       "      <td>8.387519</td>\n",
       "      <td>['Sandollar Productions', 'Touchstone Pictures']</td>\n",
       "      <td>['United States of America']</td>\n",
       "      <td>1995-02-10</td>\n",
       "      <td>76578911.0</td>\n",
       "      <td>106.0</td>\n",
       "      <td>[{'iso_639_1': 'en', 'name': 'English'}]</td>\n",
       "      <td>Released</td>\n",
       "      <td>Just When His World Is Back To Normal... He's ...</td>\n",
       "      <td>Father of the Bride Part II</td>\n",
       "      <td>5.7</td>\n",
       "      <td>1995</td>\n",
       "      <td>inf</td>\n",
       "      <td>viernes</td>\n",
       "    </tr>\n",
       "    <tr>\n",
       "      <th>...</th>\n",
       "      <td>...</td>\n",
       "      <td>...</td>\n",
       "      <td>...</td>\n",
       "      <td>...</td>\n",
       "      <td>...</td>\n",
       "      <td>...</td>\n",
       "      <td>...</td>\n",
       "      <td>...</td>\n",
       "      <td>...</td>\n",
       "      <td>...</td>\n",
       "      <td>...</td>\n",
       "      <td>...</td>\n",
       "      <td>...</td>\n",
       "      <td>...</td>\n",
       "      <td>...</td>\n",
       "      <td>...</td>\n",
       "      <td>...</td>\n",
       "      <td>...</td>\n",
       "      <td>...</td>\n",
       "      <td>...</td>\n",
       "    </tr>\n",
       "    <tr>\n",
       "      <th>45374</th>\n",
       "      <td>NaN</td>\n",
       "      <td>0.0</td>\n",
       "      <td>[Drama, Action, Romance]</td>\n",
       "      <td>30840</td>\n",
       "      <td>en</td>\n",
       "      <td>Yet another version of the classic epic, with ...</td>\n",
       "      <td>5.683753</td>\n",
       "      <td>['Westdeutscher Rundfunk (WDR)', 'Working Titl...</td>\n",
       "      <td>['Canada', 'Germany', 'United Kingdom', 'Unite...</td>\n",
       "      <td>1991-05-13</td>\n",
       "      <td>0.0</td>\n",
       "      <td>104.0</td>\n",
       "      <td>[{'iso_639_1': 'en', 'name': 'English'}]</td>\n",
       "      <td>Released</td>\n",
       "      <td>NaN</td>\n",
       "      <td>Robin Hood</td>\n",
       "      <td>5.7</td>\n",
       "      <td>1991</td>\n",
       "      <td>0.000000</td>\n",
       "      <td>lunes</td>\n",
       "    </tr>\n",
       "    <tr>\n",
       "      <th>45375</th>\n",
       "      <td>NaN</td>\n",
       "      <td>0.0</td>\n",
       "      <td>[Drama]</td>\n",
       "      <td>111109</td>\n",
       "      <td>tl</td>\n",
       "      <td>An artist struggles to finish his work while a...</td>\n",
       "      <td>0.178241</td>\n",
       "      <td>['Sine Olivia']</td>\n",
       "      <td>['Philippines']</td>\n",
       "      <td>2011-11-17</td>\n",
       "      <td>0.0</td>\n",
       "      <td>360.0</td>\n",
       "      <td>[{'iso_639_1': 'tl', 'name': ''}]</td>\n",
       "      <td>Released</td>\n",
       "      <td>NaN</td>\n",
       "      <td>Century of Birthing</td>\n",
       "      <td>9.0</td>\n",
       "      <td>2011</td>\n",
       "      <td>0.000000</td>\n",
       "      <td>jueves</td>\n",
       "    </tr>\n",
       "    <tr>\n",
       "      <th>45376</th>\n",
       "      <td>NaN</td>\n",
       "      <td>0.0</td>\n",
       "      <td>[Action, Drama, Thriller]</td>\n",
       "      <td>67758</td>\n",
       "      <td>en</td>\n",
       "      <td>When one of her hits goes wrong, a professiona...</td>\n",
       "      <td>0.903007</td>\n",
       "      <td>['American World Pictures']</td>\n",
       "      <td>['United States of America']</td>\n",
       "      <td>2003-08-01</td>\n",
       "      <td>0.0</td>\n",
       "      <td>90.0</td>\n",
       "      <td>[{'iso_639_1': 'en', 'name': 'English'}]</td>\n",
       "      <td>Released</td>\n",
       "      <td>A deadly game of wits.</td>\n",
       "      <td>Betrayal</td>\n",
       "      <td>3.8</td>\n",
       "      <td>2003</td>\n",
       "      <td>0.000000</td>\n",
       "      <td>viernes</td>\n",
       "    </tr>\n",
       "    <tr>\n",
       "      <th>45377</th>\n",
       "      <td>NaN</td>\n",
       "      <td>0.0</td>\n",
       "      <td>[]</td>\n",
       "      <td>227506</td>\n",
       "      <td>en</td>\n",
       "      <td>In a small town live two brothers, one a minis...</td>\n",
       "      <td>0.003503</td>\n",
       "      <td>['Yermoliev']</td>\n",
       "      <td>['Russia']</td>\n",
       "      <td>1917-10-21</td>\n",
       "      <td>0.0</td>\n",
       "      <td>87.0</td>\n",
       "      <td>[]</td>\n",
       "      <td>Released</td>\n",
       "      <td>NaN</td>\n",
       "      <td>Satan Triumphant</td>\n",
       "      <td>0.0</td>\n",
       "      <td>1917</td>\n",
       "      <td>0.000000</td>\n",
       "      <td>domingo</td>\n",
       "    </tr>\n",
       "    <tr>\n",
       "      <th>45378</th>\n",
       "      <td>NaN</td>\n",
       "      <td>0.0</td>\n",
       "      <td>[]</td>\n",
       "      <td>461257</td>\n",
       "      <td>en</td>\n",
       "      <td>50 years after decriminalisation of homosexual...</td>\n",
       "      <td>0.163015</td>\n",
       "      <td>[]</td>\n",
       "      <td>['United Kingdom']</td>\n",
       "      <td>2017-06-09</td>\n",
       "      <td>0.0</td>\n",
       "      <td>75.0</td>\n",
       "      <td>[{'iso_639_1': 'en', 'name': 'English'}]</td>\n",
       "      <td>Released</td>\n",
       "      <td>NaN</td>\n",
       "      <td>Queerama</td>\n",
       "      <td>0.0</td>\n",
       "      <td>2017</td>\n",
       "      <td>0.000000</td>\n",
       "      <td>viernes</td>\n",
       "    </tr>\n",
       "  </tbody>\n",
       "</table>\n",
       "<p>45379 rows × 20 columns</p>\n",
       "</div>"
      ],
      "text/plain": [
       "                    belongs_to_collection      budget  \\\n",
       "0                ['Toy Story Collection']  30000000.0   \n",
       "1                                     NaN  65000000.0   \n",
       "2           ['Grumpy Old Men Collection']         0.0   \n",
       "3                                     NaN  16000000.0   \n",
       "4      ['Father of the Bride Collection']         0.0   \n",
       "...                                   ...         ...   \n",
       "45374                                 NaN         0.0   \n",
       "45375                                 NaN         0.0   \n",
       "45376                                 NaN         0.0   \n",
       "45377                                 NaN         0.0   \n",
       "45378                                 NaN         0.0   \n",
       "\n",
       "                             genres      id original_language  \\\n",
       "0       [Animation, Comedy, Family]     862                en   \n",
       "1      [Adventure, Fantasy, Family]    8844                en   \n",
       "2                 [Romance, Comedy]   15602                en   \n",
       "3          [Comedy, Drama, Romance]   31357                en   \n",
       "4                          [Comedy]   11862                en   \n",
       "...                             ...     ...               ...   \n",
       "45374      [Drama, Action, Romance]   30840                en   \n",
       "45375                       [Drama]  111109                tl   \n",
       "45376     [Action, Drama, Thriller]   67758                en   \n",
       "45377                            []  227506                en   \n",
       "45378                            []  461257                en   \n",
       "\n",
       "                                                overview popularity  \\\n",
       "0      Led by Woody, Andy's toys live happily in his ...  21.946943   \n",
       "1      When siblings Judy and Peter discover an encha...  17.015539   \n",
       "2      A family wedding reignites the ancient feud be...    11.7129   \n",
       "3      Cheated on, mistreated and stepped on, the wom...   3.859495   \n",
       "4      Just when George Banks has recovered from his ...   8.387519   \n",
       "...                                                  ...        ...   \n",
       "45374  Yet another version of the classic epic, with ...   5.683753   \n",
       "45375  An artist struggles to finish his work while a...   0.178241   \n",
       "45376  When one of her hits goes wrong, a professiona...   0.903007   \n",
       "45377  In a small town live two brothers, one a minis...   0.003503   \n",
       "45378  50 years after decriminalisation of homosexual...   0.163015   \n",
       "\n",
       "                                    production_companies  \\\n",
       "0                            ['Pixar Animation Studios']   \n",
       "1      ['TriStar Pictures', 'Teitler Film', 'Intersco...   \n",
       "2                     ['Warner Bros.', 'Lancaster Gate']   \n",
       "3             ['Twentieth Century Fox Film Corporation']   \n",
       "4       ['Sandollar Productions', 'Touchstone Pictures']   \n",
       "...                                                  ...   \n",
       "45374  ['Westdeutscher Rundfunk (WDR)', 'Working Titl...   \n",
       "45375                                    ['Sine Olivia']   \n",
       "45376                        ['American World Pictures']   \n",
       "45377                                      ['Yermoliev']   \n",
       "45378                                                 []   \n",
       "\n",
       "                                    production_countries release_date  \\\n",
       "0                           ['United States of America']   1995-10-30   \n",
       "1                           ['United States of America']   1995-12-15   \n",
       "2                           ['United States of America']   1995-12-22   \n",
       "3                           ['United States of America']   1995-12-22   \n",
       "4                           ['United States of America']   1995-02-10   \n",
       "...                                                  ...          ...   \n",
       "45374  ['Canada', 'Germany', 'United Kingdom', 'Unite...   1991-05-13   \n",
       "45375                                    ['Philippines']   2011-11-17   \n",
       "45376                       ['United States of America']   2003-08-01   \n",
       "45377                                         ['Russia']   1917-10-21   \n",
       "45378                                 ['United Kingdom']   2017-06-09   \n",
       "\n",
       "           revenue  runtime  \\\n",
       "0      373554033.0     81.0   \n",
       "1      262797249.0    104.0   \n",
       "2              0.0    101.0   \n",
       "3       81452156.0    127.0   \n",
       "4       76578911.0    106.0   \n",
       "...            ...      ...   \n",
       "45374          0.0    104.0   \n",
       "45375          0.0    360.0   \n",
       "45376          0.0     90.0   \n",
       "45377          0.0     87.0   \n",
       "45378          0.0     75.0   \n",
       "\n",
       "                                        spoken_languages    status  \\\n",
       "0               [{'iso_639_1': 'en', 'name': 'English'}]  Released   \n",
       "1      [{'iso_639_1': 'en', 'name': 'English'}, {'iso...  Released   \n",
       "2               [{'iso_639_1': 'en', 'name': 'English'}]  Released   \n",
       "3               [{'iso_639_1': 'en', 'name': 'English'}]  Released   \n",
       "4               [{'iso_639_1': 'en', 'name': 'English'}]  Released   \n",
       "...                                                  ...       ...   \n",
       "45374           [{'iso_639_1': 'en', 'name': 'English'}]  Released   \n",
       "45375                  [{'iso_639_1': 'tl', 'name': ''}]  Released   \n",
       "45376           [{'iso_639_1': 'en', 'name': 'English'}]  Released   \n",
       "45377                                                 []  Released   \n",
       "45378           [{'iso_639_1': 'en', 'name': 'English'}]  Released   \n",
       "\n",
       "                                                 tagline  \\\n",
       "0                                                    NaN   \n",
       "1              Roll the dice and unleash the excitement!   \n",
       "2      Still Yelling. Still Fighting. Still Ready for...   \n",
       "3      Friends are the people who let you be yourself...   \n",
       "4      Just When His World Is Back To Normal... He's ...   \n",
       "...                                                  ...   \n",
       "45374                                                NaN   \n",
       "45375                                                NaN   \n",
       "45376                             A deadly game of wits.   \n",
       "45377                                                NaN   \n",
       "45378                                                NaN   \n",
       "\n",
       "                             title  vote_average  release_year     return  \\\n",
       "0                        Toy Story           7.7          1995  12.451801   \n",
       "1                          Jumanji           6.9          1995   4.043035   \n",
       "2                 Grumpier Old Men           6.5          1995   0.000000   \n",
       "3                Waiting to Exhale           6.1          1995   5.090760   \n",
       "4      Father of the Bride Part II           5.7          1995        inf   \n",
       "...                            ...           ...           ...        ...   \n",
       "45374                   Robin Hood           5.7          1991   0.000000   \n",
       "45375          Century of Birthing           9.0          2011   0.000000   \n",
       "45376                     Betrayal           3.8          2003   0.000000   \n",
       "45377             Satan Triumphant           0.0          1917   0.000000   \n",
       "45378                     Queerama           0.0          2017   0.000000   \n",
       "\n",
       "      day_of_week  \n",
       "0           lunes  \n",
       "1         viernes  \n",
       "2         viernes  \n",
       "3         viernes  \n",
       "4         viernes  \n",
       "...           ...  \n",
       "45374       lunes  \n",
       "45375      jueves  \n",
       "45376     viernes  \n",
       "45377     domingo  \n",
       "45378     viernes  \n",
       "\n",
       "[45379 rows x 20 columns]"
      ]
     },
     "execution_count": 51,
     "metadata": {},
     "output_type": "execute_result"
    }
   ],
   "source": [
    "extraer_datos(df, 'genres')"
   ]
  },
  {
   "attachments": {},
   "cell_type": "markdown",
   "metadata": {},
   "source": [
    "from sklearn.feature_extraction.text import CountVectorizer\n",
    "from sklearn.metrics.pairwise import cosine_similarity\n",
    "\n",
    "# Paso 1: Preparar los datos\n",
    "# Tu dataframe ya está preparado con las transformaciones requeridas\n",
    "\n",
    "# Tomar una muestra aleatoria\n",
    "df_sample = df.sample(n=5000, random_state=42)\n",
    "\n",
    "# Paso 2: Crear una matriz de características\n",
    "# Seleccionar las columnas que servirán como características\n",
    "features = ['genres', 'production_companies', 'overview']\n",
    "\n",
    "# Crear una instancia del CountVectorizer\n",
    "vectorizer = CountVectorizer()\n",
    "\n",
    "# Crear la matriz de características\n",
    "X = vectorizer.fit_transform(df_sample[features].fillna(''))\n",
    "\n",
    "# Paso 3: Calcular la similitud de coseno\n",
    "cosine_sim = cosine_similarity(X)\n",
    "\n",
    "# Paso 4: Seleccionar las películas similares\n",
    "# Seleccionar una película de referencia (por ejemplo, la película con ID=1)\n",
    "movie_index = 1\n",
    "\n",
    "# Obtener las puntuaciones de similitud para la película de referencia\n",
    "sim_scores = list(enumerate(cosine_sim[movie_index]))\n",
    "\n",
    "# Ordenar las películas por similitud de mayor a menor\n",
    "sim_scores = sorted(sim_scores, key=lambda x: x[1], reverse=True)\n",
    "\n",
    "# Paso 5: Filtrar películas\n",
    "# Obtener los IDs de las 10 películas más similares\n",
    "movie_indices = [i[0] for i in sim_scores[1:11]]\n",
    "\n",
    "# Obtener los títulos de las películas más similares\n",
    "movie_titles = df['title'].iloc[movie_indices]\n",
    "\n",
    "print(movie_titles)\n"
   ]
  },
  {
   "cell_type": "code",
   "execution_count": null,
   "metadata": {},
   "outputs": [],
   "source": [
    "from sklearn.feature_extraction.text import CountVectorizer\n",
    "from sklearn.metrics.pairwise import cosine_similarity"
   ]
  },
  {
   "attachments": {},
   "cell_type": "markdown",
   "metadata": {},
   "source": [
    "Funcion Recomendacion"
   ]
  },
  {
   "cell_type": "code",
   "execution_count": 105,
   "metadata": {},
   "outputs": [],
   "source": [
    "import pandas as pd\n",
    "from sklearn.feature_extraction.text import TfidfVectorizer\n",
    "from sklearn.metrics.pairwise import cosine_similarity\n"
   ]
  },
  {
   "cell_type": "code",
   "execution_count": 106,
   "metadata": {},
   "outputs": [],
   "source": [
    "df= df.sample(n=1000, random_state=42)"
   ]
  },
  {
   "cell_type": "code",
   "execution_count": 112,
   "metadata": {},
   "outputs": [],
   "source": [
    "df['features'] = (df['title'].fillna('') + ' ' + df['overview'].fillna('') + ' ' + str(df['genres'].fillna('')))\n"
   ]
  },
  {
   "cell_type": "code",
   "execution_count": 108,
   "metadata": {},
   "outputs": [],
   "source": [
    "tfidf = TfidfVectorizer(stop_words='english')\n",
    "tfidf_matrix = tfidf.fit_transform(df['features'])\n",
    "cosine_sim = cosine_similarity(tfidf_matrix, tfidf_matrix)\n"
   ]
  },
  {
   "cell_type": "code",
   "execution_count": 113,
   "metadata": {},
   "outputs": [],
   "source": [
    "def get_recommendations(title, n=5):\n",
    "    # Obtener el índice de la película que coincide con el título\n",
    "    #idx = df[df['title'].str.lower() == title.lower()]\n",
    "    idx = df.index[df['title'].str.lower() == title.lower()].tolist()[0]\n",
    "\n",
    "    \n",
    "\n",
    "    \n",
    "    # Obtener la similitud de la película con todas las demás películas\n",
    "    sim_scores = list(enumerate(cosine_sim[idx]))\n",
    "    \n",
    "    # Ordenar las películas según su similitud y seleccionar las n más similares\n",
    "    sim_scores = sorted(sim_scores, key=lambda x: x[1], reverse=True)[1:n+1]\n",
    "    \n",
    "    # Obtener los índices de las películas recomendadas\n",
    "    movie_indices = [i[0] for i in sim_scores]\n",
    "    \n",
    "    # Devolver las películas recomendadas\n",
    "    return df['title'].iloc[movie_indices]\n"
   ]
  },
  {
   "cell_type": "code",
   "execution_count": 114,
   "metadata": {},
   "outputs": [
    {
     "ename": "IndexError",
     "evalue": "list index out of range",
     "output_type": "error",
     "traceback": [
      "\u001b[1;31m---------------------------------------------------------------------------\u001b[0m",
      "\u001b[1;31mIndexError\u001b[0m                                Traceback (most recent call last)",
      "\u001b[1;32mc:\\Users\\belen\\OneDrive\\Escritorio\\PI_ML_OPS\\funciones.IpyNB Cell 34\u001b[0m in \u001b[0;36m1\n\u001b[1;32m----> <a href='vscode-notebook-cell:/c%3A/Users/belen/OneDrive/Escritorio/PI_ML_OPS/funciones.IpyNB#Y122sZmlsZQ%3D%3D?line=0'>1</a>\u001b[0m get_recommendations(\u001b[39m'\u001b[39;49m\u001b[39mJumanji\u001b[39;49m\u001b[39m'\u001b[39;49m)\n",
      "\u001b[1;32mc:\\Users\\belen\\OneDrive\\Escritorio\\PI_ML_OPS\\funciones.IpyNB Cell 34\u001b[0m in \u001b[0;36m4\n\u001b[0;32m      <a href='vscode-notebook-cell:/c%3A/Users/belen/OneDrive/Escritorio/PI_ML_OPS/funciones.IpyNB#Y122sZmlsZQ%3D%3D?line=0'>1</a>\u001b[0m \u001b[39mdef\u001b[39;00m \u001b[39mget_recommendations\u001b[39m(title, n\u001b[39m=\u001b[39m\u001b[39m5\u001b[39m):\n\u001b[0;32m      <a href='vscode-notebook-cell:/c%3A/Users/belen/OneDrive/Escritorio/PI_ML_OPS/funciones.IpyNB#Y122sZmlsZQ%3D%3D?line=1'>2</a>\u001b[0m     \u001b[39m# Obtener el índice de la película que coincide con el título\u001b[39;00m\n\u001b[0;32m      <a href='vscode-notebook-cell:/c%3A/Users/belen/OneDrive/Escritorio/PI_ML_OPS/funciones.IpyNB#Y122sZmlsZQ%3D%3D?line=2'>3</a>\u001b[0m     \u001b[39m#idx = df[df['title'].str.lower() == title.lower()]\u001b[39;00m\n\u001b[1;32m----> <a href='vscode-notebook-cell:/c%3A/Users/belen/OneDrive/Escritorio/PI_ML_OPS/funciones.IpyNB#Y122sZmlsZQ%3D%3D?line=3'>4</a>\u001b[0m     idx \u001b[39m=\u001b[39m df\u001b[39m.\u001b[39;49mindex[df[\u001b[39m'\u001b[39;49m\u001b[39mtitle\u001b[39;49m\u001b[39m'\u001b[39;49m]\u001b[39m.\u001b[39;49mstr\u001b[39m.\u001b[39;49mlower() \u001b[39m==\u001b[39;49m title\u001b[39m.\u001b[39;49mlower()]\u001b[39m.\u001b[39;49mtolist()[\u001b[39m0\u001b[39;49m]\n\u001b[0;32m      <a href='vscode-notebook-cell:/c%3A/Users/belen/OneDrive/Escritorio/PI_ML_OPS/funciones.IpyNB#Y122sZmlsZQ%3D%3D?line=5'>6</a>\u001b[0m     \u001b[39m# Obtener la similitud de la película con todas las demás películas\u001b[39;00m\n\u001b[0;32m      <a href='vscode-notebook-cell:/c%3A/Users/belen/OneDrive/Escritorio/PI_ML_OPS/funciones.IpyNB#Y122sZmlsZQ%3D%3D?line=6'>7</a>\u001b[0m     sim_scores \u001b[39m=\u001b[39m \u001b[39mlist\u001b[39m(\u001b[39menumerate\u001b[39m(cosine_sim[idx]))\n",
      "\u001b[1;31mIndexError\u001b[0m: list index out of range"
     ]
    }
   ],
   "source": [
    "get_recommendations('Jumanji')"
   ]
  },
  {
   "attachments": {},
   "cell_type": "markdown",
   "metadata": {},
   "source": [
    "import pandas as pd\n",
    "import numpy as np\n",
    "from sklearn.feature_extraction.text import CountVectorizer\n",
    "from sklearn.metrics.pairwise import cosine_similarity\n",
    "\n",
    "# Cargar los datos\n",
    "df = pd.read_csv('movies_metadata.csv', low_memory=False)\n",
    "\n",
    "# Tomar una muestra aleatoria del DataFrame original\n",
    "df_sample = df.sample(frac=0.1, random_state=42)\n",
    "\n",
    "# Limpiar y transformar los datos de la columna 'genres'\n",
    "df_sample['genres'] = df_sample['genres'].fillna('[]').apply(eval).apply(lambda x: [i['name'] for i in x] if isinstance(x, list) else [])\n",
    "\n",
    "# Crear una instancia del vectorizador CountVectorizer\n",
    "count = CountVectorizer(stop_words='english')\n",
    "\n",
    "# Construir la matriz de conteos\n",
    "count_matrix = count.fit_transform(df_sample['genres'])\n",
    "\n",
    "# Calcular la matriz de similitud del coseno\n",
    "cosine_sim = cosine_similarity(count_matrix, count_matrix)\n",
    "\n",
    "# Crear un diccionario de títulos de películas y sus índices correspondientes\n",
    "indices = pd.Series(df_sample.index, index=df_sample['title']).drop_duplicates()\n",
    "\n",
    "def get_recommendations(title, cosine_sim=cosine_sim, df=df_sample, indices=indices, top_n=10):\n",
    "    \"\"\"\n",
    "    Esta función toma un título de película y devuelve las 'n' películas más similares según su género.\n",
    "    \"\"\"\n",
    "    # Obtener el índice de la película que coincide con el título\n",
    "    idx = indices[title]\n",
    "\n",
    "    # Obtener los puntajes de similitud de coseno de la película con todas las demás películas\n",
    "    sim_scores = list(enumerate(cosine_sim[idx]))\n",
    "\n",
    "    # Ordenar las películas según sus puntajes de similitud\n",
    "    sim_scores = sorted(sim_scores, key=lambda x: x[1], reverse=True)\n",
    "\n",
    "    # Obtener los índices de las 'n' películas más similares\n",
    "    sim_scores = sim_scores[1:top_n+1]\n",
    "    movie_indices = [i[0] for i in sim_scores]\n",
    "\n",
    "    # Devolver las películas más similares\n",
    "    return df['title'].iloc[movie_indices]\n"
   ]
  },
  {
   "cell_type": "code",
   "execution_count": 59,
   "metadata": {},
   "outputs": [],
   "source": [
    "import pandas as pd\n",
    "import numpy as np\n",
    "from sklearn.feature_extraction.text import CountVectorizer\n",
    "from sklearn.metrics.pairwise import cosine_similarity"
   ]
  },
  {
   "cell_type": "code",
   "execution_count": 102,
   "metadata": {},
   "outputs": [],
   "source": [
    "# Tomar una muestra aleatoria del DataFrame original\n",
    "df_sample = df.sample(n=1000, random_state=42)"
   ]
  },
  {
   "cell_type": "code",
   "execution_count": 103,
   "metadata": {},
   "outputs": [
    {
     "ename": "TypeError",
     "evalue": "eval() arg 1 must be a string, bytes or code object",
     "output_type": "error",
     "traceback": [
      "\u001b[1;31m---------------------------------------------------------------------------\u001b[0m",
      "\u001b[1;31mTypeError\u001b[0m                                 Traceback (most recent call last)",
      "\u001b[1;32mc:\\Users\\belen\\OneDrive\\Escritorio\\PI_ML_OPS\\funciones.IpyNB Cell 38\u001b[0m in \u001b[0;36m2\n\u001b[0;32m      <a href='vscode-notebook-cell:/c%3A/Users/belen/OneDrive/Escritorio/PI_ML_OPS/funciones.IpyNB#Y111sZmlsZQ%3D%3D?line=0'>1</a>\u001b[0m \u001b[39m# Limpiar y transformar los datos de la columna 'genres'\u001b[39;00m\n\u001b[1;32m----> <a href='vscode-notebook-cell:/c%3A/Users/belen/OneDrive/Escritorio/PI_ML_OPS/funciones.IpyNB#Y111sZmlsZQ%3D%3D?line=1'>2</a>\u001b[0m df_sample[\u001b[39m'\u001b[39m\u001b[39mgenres\u001b[39m\u001b[39m'\u001b[39m] \u001b[39m=\u001b[39m df_sample[\u001b[39m'\u001b[39;49m\u001b[39mgenres\u001b[39;49m\u001b[39m'\u001b[39;49m]\u001b[39m.\u001b[39;49mfillna(\u001b[39m'\u001b[39;49m\u001b[39m[]\u001b[39;49m\u001b[39m'\u001b[39;49m)\u001b[39m.\u001b[39;49mapply(\u001b[39meval\u001b[39;49m)\u001b[39m.\u001b[39mapply(\u001b[39mlambda\u001b[39;00m x: [i[\u001b[39m'\u001b[39m\u001b[39mname\u001b[39m\u001b[39m'\u001b[39m] \u001b[39mfor\u001b[39;00m i \u001b[39min\u001b[39;00m x] \u001b[39mif\u001b[39;00m \u001b[39misinstance\u001b[39m(x, \u001b[39mlist\u001b[39m) \u001b[39melse\u001b[39;00m [])\n",
      "File \u001b[1;32mc:\\Users\\belen\\AppData\\Local\\Programs\\Python\\Python311\\Lib\\site-packages\\pandas\\core\\series.py:4771\u001b[0m, in \u001b[0;36mSeries.apply\u001b[1;34m(self, func, convert_dtype, args, **kwargs)\u001b[0m\n\u001b[0;32m   4661\u001b[0m \u001b[39mdef\u001b[39;00m \u001b[39mapply\u001b[39m(\n\u001b[0;32m   4662\u001b[0m     \u001b[39mself\u001b[39m,\n\u001b[0;32m   4663\u001b[0m     func: AggFuncType,\n\u001b[1;32m   (...)\u001b[0m\n\u001b[0;32m   4666\u001b[0m     \u001b[39m*\u001b[39m\u001b[39m*\u001b[39mkwargs,\n\u001b[0;32m   4667\u001b[0m ) \u001b[39m-\u001b[39m\u001b[39m>\u001b[39m DataFrame \u001b[39m|\u001b[39m Series:\n\u001b[0;32m   4668\u001b[0m     \u001b[39m\"\"\"\u001b[39;00m\n\u001b[0;32m   4669\u001b[0m \u001b[39m    Invoke function on values of Series.\u001b[39;00m\n\u001b[0;32m   4670\u001b[0m \n\u001b[1;32m   (...)\u001b[0m\n\u001b[0;32m   4769\u001b[0m \u001b[39m    dtype: float64\u001b[39;00m\n\u001b[0;32m   4770\u001b[0m \u001b[39m    \"\"\"\u001b[39;00m\n\u001b[1;32m-> 4771\u001b[0m     \u001b[39mreturn\u001b[39;00m SeriesApply(\u001b[39mself\u001b[39;49m, func, convert_dtype, args, kwargs)\u001b[39m.\u001b[39;49mapply()\n",
      "File \u001b[1;32mc:\\Users\\belen\\AppData\\Local\\Programs\\Python\\Python311\\Lib\\site-packages\\pandas\\core\\apply.py:1123\u001b[0m, in \u001b[0;36mSeriesApply.apply\u001b[1;34m(self)\u001b[0m\n\u001b[0;32m   1120\u001b[0m     \u001b[39mreturn\u001b[39;00m \u001b[39mself\u001b[39m\u001b[39m.\u001b[39mapply_str()\n\u001b[0;32m   1122\u001b[0m \u001b[39m# self.f is Callable\u001b[39;00m\n\u001b[1;32m-> 1123\u001b[0m \u001b[39mreturn\u001b[39;00m \u001b[39mself\u001b[39;49m\u001b[39m.\u001b[39;49mapply_standard()\n",
      "File \u001b[1;32mc:\\Users\\belen\\AppData\\Local\\Programs\\Python\\Python311\\Lib\\site-packages\\pandas\\core\\apply.py:1174\u001b[0m, in \u001b[0;36mSeriesApply.apply_standard\u001b[1;34m(self)\u001b[0m\n\u001b[0;32m   1172\u001b[0m     \u001b[39melse\u001b[39;00m:\n\u001b[0;32m   1173\u001b[0m         values \u001b[39m=\u001b[39m obj\u001b[39m.\u001b[39mastype(\u001b[39mobject\u001b[39m)\u001b[39m.\u001b[39m_values\n\u001b[1;32m-> 1174\u001b[0m         mapped \u001b[39m=\u001b[39m lib\u001b[39m.\u001b[39;49mmap_infer(\n\u001b[0;32m   1175\u001b[0m             values,\n\u001b[0;32m   1176\u001b[0m             f,\n\u001b[0;32m   1177\u001b[0m             convert\u001b[39m=\u001b[39;49m\u001b[39mself\u001b[39;49m\u001b[39m.\u001b[39;49mconvert_dtype,\n\u001b[0;32m   1178\u001b[0m         )\n\u001b[0;32m   1180\u001b[0m \u001b[39mif\u001b[39;00m \u001b[39mlen\u001b[39m(mapped) \u001b[39mand\u001b[39;00m \u001b[39misinstance\u001b[39m(mapped[\u001b[39m0\u001b[39m], ABCSeries):\n\u001b[0;32m   1181\u001b[0m     \u001b[39m# GH#43986 Need to do list(mapped) in order to get treated as nested\u001b[39;00m\n\u001b[0;32m   1182\u001b[0m     \u001b[39m#  See also GH#25959 regarding EA support\u001b[39;00m\n\u001b[0;32m   1183\u001b[0m     \u001b[39mreturn\u001b[39;00m obj\u001b[39m.\u001b[39m_constructor_expanddim(\u001b[39mlist\u001b[39m(mapped), index\u001b[39m=\u001b[39mobj\u001b[39m.\u001b[39mindex)\n",
      "File \u001b[1;32mc:\\Users\\belen\\AppData\\Local\\Programs\\Python\\Python311\\Lib\\site-packages\\pandas\\_libs\\lib.pyx:2924\u001b[0m, in \u001b[0;36mpandas._libs.lib.map_infer\u001b[1;34m()\u001b[0m\n",
      "\u001b[1;31mTypeError\u001b[0m: eval() arg 1 must be a string, bytes or code object"
     ]
    }
   ],
   "source": [
    "# Limpiar y transformar los datos de la columna 'genres'\n",
    "df_sample['genres'] = df_sample['genres'].fillna('[]').apply(eval).apply(lambda x: [i['name'] for i in x] if isinstance(x, list) else [])"
   ]
  },
  {
   "cell_type": "code",
   "execution_count": null,
   "metadata": {},
   "outputs": [],
   "source": [
    "# Crear una instancia del vectorizador CountVectorizer\n",
    "count = CountVectorizer(stop_words='english')"
   ]
  },
  {
   "cell_type": "code",
   "execution_count": null,
   "metadata": {},
   "outputs": [],
   "source": [
    "# Construir la matriz de conteos\n",
    "count_matrix = count.fit_transform(df_sample['genres'])"
   ]
  },
  {
   "cell_type": "code",
   "execution_count": null,
   "metadata": {},
   "outputs": [],
   "source": [
    "# Calcular la matriz de similitud del coseno\n",
    "cosine_sim = cosine_similarity(count_matrix, count_matrix)"
   ]
  },
  {
   "cell_type": "code",
   "execution_count": null,
   "metadata": {},
   "outputs": [],
   "source": [
    "# Crear un diccionario de títulos de películas y sus índices correspondientes\n",
    "indices = pd.Series(df_sample.index, index=df_sample['title']).drop_duplicates()"
   ]
  },
  {
   "cell_type": "code",
   "execution_count": null,
   "metadata": {},
   "outputs": [],
   "source": [
    "def get_recommendations(title, cosine_sim=cosine_sim, df=df_sample, indices=indices, top_n=10):\n",
    "    \"\"\"\n",
    "    Esta función toma un título de película y devuelve las 'n' películas más similares según su género.\n",
    "    \"\"\"\n",
    "    # Obtener el índice de la película que coincide con el título\n",
    "    idx = indices[title]\n",
    "\n",
    "    # Obtener los puntajes de similitud de coseno de la película con todas las demás películas\n",
    "    sim_scores = list(enumerate(cosine_sim[idx]))\n",
    "\n",
    "    # Ordenar las películas según sus puntajes de similitud\n",
    "    sim_scores = sorted(sim_scores, key=lambda x: x[1], reverse=True)\n",
    "\n",
    "    # Obtener los índices de las 'n' películas más similares\n",
    "    sim_scores = sim_scores[1:top_n+1]\n",
    "    movie_indices = [i[0] for i in sim_scores]\n",
    "\n",
    "    # Devolver las películas más similares\n",
    "    return df['title'].iloc[movie_indices]"
   ]
  }
 ],
 "metadata": {
  "kernelspec": {
   "display_name": "Python 3",
   "language": "python",
   "name": "python3"
  },
  "language_info": {
   "codemirror_mode": {
    "name": "ipython",
    "version": 3
   },
   "file_extension": ".py",
   "mimetype": "text/x-python",
   "name": "python",
   "nbconvert_exporter": "python",
   "pygments_lexer": "ipython3",
   "version": "3.11.0"
  },
  "orig_nbformat": 4
 },
 "nbformat": 4,
 "nbformat_minor": 2
}
