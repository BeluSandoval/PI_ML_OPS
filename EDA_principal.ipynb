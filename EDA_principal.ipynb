{
 "cells": [
  {
   "attachments": {},
   "cell_type": "markdown",
   "metadata": {},
   "source": [
    "Aálisis Exploratio de Datos "
   ]
  },
  {
   "cell_type": "code",
   "execution_count": 1,
   "metadata": {},
   "outputs": [],
   "source": [
    "import pandas as pd"
   ]
  },
  {
   "attachments": {},
   "cell_type": "markdown",
   "metadata": {},
   "source": [
    "Importamos nuestra Data"
   ]
  },
  {
   "cell_type": "code",
   "execution_count": 3,
   "metadata": {},
   "outputs": [
    {
     "name": "stderr",
     "output_type": "stream",
     "text": [
      "C:\\Users\\belen\\AppData\\Local\\Temp\\ipykernel_14832\\889013762.py:1: DtypeWarning: Columns (6) have mixed types. Specify dtype option on import or set low_memory=False.\n",
      "  df = pd.read_csv('df_final.csv')\n"
     ]
    }
   ],
   "source": [
    "df = pd.read_csv('df_final.csv')"
   ]
  },
  {
   "attachments": {},
   "cell_type": "markdown",
   "metadata": {},
   "source": [
    "Análisis general"
   ]
  },
  {
   "cell_type": "code",
   "execution_count": 6,
   "metadata": {},
   "outputs": [
    {
     "name": "stdout",
     "output_type": "stream",
     "text": [
      "Dimensiones del dataframe:\n",
      "(45379, 20)\n",
      "\n",
      "Tipos de datos:\n",
      "belongs_to_collection            object\n",
      "budget                          float64\n",
      "genres                           object\n",
      "id                               object\n",
      "original_language                object\n",
      "overview                         object\n",
      "popularity                       object\n",
      "production_companies             object\n",
      "production_countries             object\n",
      "release_date             datetime64[ns]\n",
      "revenue                         float64\n",
      "runtime                         float64\n",
      "spoken_languages                 object\n",
      "status                           object\n",
      "tagline                          object\n",
      "title                            object\n",
      "vote_average                    float64\n",
      "release_year                      int64\n",
      "return                          float64\n",
      "day_of_week                      object\n",
      "dtype: object\n",
      "\n",
      "Valores nulos:\n",
      "belongs_to_collection    40888\n",
      "budget                       3\n",
      "genres                       0\n",
      "id                           0\n",
      "original_language           11\n",
      "overview                   941\n",
      "popularity                   2\n",
      "production_companies         0\n",
      "production_countries         0\n",
      "release_date                 3\n",
      "revenue                      0\n",
      "runtime                    249\n",
      "spoken_languages             3\n",
      "status                      83\n",
      "tagline                  24981\n",
      "title                        3\n",
      "vote_average                 3\n",
      "release_year                 0\n",
      "return                       0\n",
      "day_of_week                  3\n",
      "dtype: int64\n",
      "\n",
      "Estadísticas básicas de variables numéricas:\n",
      "             budget       revenue       runtime  vote_average  release_year  \\\n",
      "count  4.537600e+04  4.537900e+04  45130.000000  45376.000000  45379.000000   \n",
      "mean   4.232604e+06  1.122936e+07     94.181675      5.624070   1991.749510   \n",
      "std    1.743986e+07  6.438789e+07     38.341059      1.915423     28.998404   \n",
      "min    0.000000e+00  0.000000e+00      0.000000      0.000000      0.000000   \n",
      "25%    0.000000e+00  0.000000e+00     85.000000      5.000000   1978.000000   \n",
      "50%    0.000000e+00  0.000000e+00     95.000000      6.000000   2001.000000   \n",
      "75%    0.000000e+00  0.000000e+00    107.000000      6.800000   2010.000000   \n",
      "max    3.800000e+08  2.787965e+09   1256.000000     10.000000   2020.000000   \n",
      "\n",
      "        return  \n",
      "count  45379.0  \n",
      "mean       inf  \n",
      "std        NaN  \n",
      "min        0.0  \n",
      "25%        0.0  \n",
      "50%        0.0  \n",
      "75%        0.0  \n",
      "max        inf  \n"
     ]
    }
   ],
   "source": [
    "print(\"Dimensiones del dataframe:\")\n",
    "print(df.shape)\n",
    "print(\"\\nTipos de datos:\")\n",
    "print(df.dtypes)\n"
   ]
  },
  {
   "cell_type": "code",
   "execution_count": 7,
   "metadata": {},
   "outputs": [
    {
     "name": "stdout",
     "output_type": "stream",
     "text": [
      "\n",
      "Valores nulos:\n",
      "belongs_to_collection    40888\n",
      "budget                       3\n",
      "genres                       0\n",
      "id                           0\n",
      "original_language           11\n",
      "overview                   941\n",
      "popularity                   2\n",
      "production_companies         0\n",
      "production_countries         0\n",
      "release_date                 3\n",
      "revenue                      0\n",
      "runtime                    249\n",
      "spoken_languages             3\n",
      "status                      83\n",
      "tagline                  24981\n",
      "title                        3\n",
      "vote_average                 3\n",
      "release_year                 0\n",
      "return                       0\n",
      "day_of_week                  3\n",
      "dtype: int64\n",
      "\n",
      "Estadísticas básicas de variables numéricas:\n",
      "             budget       revenue       runtime  vote_average  release_year  \\\n",
      "count  4.537600e+04  4.537900e+04  45130.000000  45376.000000  45379.000000   \n",
      "mean   4.232604e+06  1.122936e+07     94.181675      5.624070   1991.749510   \n",
      "std    1.743986e+07  6.438789e+07     38.341059      1.915423     28.998404   \n",
      "min    0.000000e+00  0.000000e+00      0.000000      0.000000      0.000000   \n",
      "25%    0.000000e+00  0.000000e+00     85.000000      5.000000   1978.000000   \n",
      "50%    0.000000e+00  0.000000e+00     95.000000      6.000000   2001.000000   \n",
      "75%    0.000000e+00  0.000000e+00    107.000000      6.800000   2010.000000   \n",
      "max    3.800000e+08  2.787965e+09   1256.000000     10.000000   2020.000000   \n",
      "\n",
      "        return  \n",
      "count  45379.0  \n",
      "mean       inf  \n",
      "std        NaN  \n",
      "min        0.0  \n",
      "25%        0.0  \n",
      "50%        0.0  \n",
      "75%        0.0  \n",
      "max        inf  \n"
     ]
    }
   ],
   "source": [
    "print(\"\\nValores nulos:\")\n",
    "print(df.isnull().sum())\n",
    "print(\"\\nEstadísticas básicas de variables numéricas:\")\n",
    "print(df.describe())"
   ]
  },
  {
   "attachments": {},
   "cell_type": "markdown",
   "metadata": {},
   "source": [
    "Análisis de distribución de variables"
   ]
  }
 ],
 "metadata": {
  "kernelspec": {
   "display_name": "Python 3",
   "language": "python",
   "name": "python3"
  },
  "language_info": {
   "codemirror_mode": {
    "name": "ipython",
    "version": 3
   },
   "file_extension": ".py",
   "mimetype": "text/x-python",
   "name": "python",
   "nbconvert_exporter": "python",
   "pygments_lexer": "ipython3",
   "version": "3.11.0"
  },
  "orig_nbformat": 4
 },
 "nbformat": 4,
 "nbformat_minor": 2
}
