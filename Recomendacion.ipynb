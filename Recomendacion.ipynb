{
 "cells": [
  {
   "attachments": {},
   "cell_type": "markdown",
   "metadata": {},
   "source": [
    "**MODELO DE RECOMENDACIÓN**"
   ]
  },
  {
   "cell_type": "code",
   "execution_count": 70,
   "metadata": {},
   "outputs": [],
   "source": [
    "\n",
    "import pandas as pd\n",
    "from sklearn.feature_extraction.text import TfidfVectorizer\n",
    "from sklearn.metrics.pairwise import cosine_similarity\n",
    "import pickle"
   ]
  },
  {
   "cell_type": "code",
   "execution_count": 155,
   "metadata": {},
   "outputs": [
    {
     "name": "stderr",
     "output_type": "stream",
     "text": [
      "C:\\Users\\belen\\AppData\\Local\\Temp\\ipykernel_5368\\1889689481.py:2: DtypeWarning: Columns (6) have mixed types. Specify dtype option on import or set low_memory=False.\n",
      "  df = pd.read_csv(r'df_final.csv')\n"
     ]
    },
    {
     "data": {
      "text/plain": [
       "(45379, 20)"
      ]
     },
     "execution_count": 155,
     "metadata": {},
     "output_type": "execute_result"
    }
   ],
   "source": [
    "#import datasets\n",
    "df = pd.read_csv(r'df_final.csv')\n",
    "df.shape"
   ]
  },
  {
   "attachments": {},
   "cell_type": "markdown",
   "metadata": {},
   "source": [
    "-----------------------------"
   ]
  },
  {
   "attachments": {},
   "cell_type": "markdown",
   "metadata": {},
   "source": [
    "Importamos librerias"
   ]
  },
  {
   "cell_type": "code",
   "execution_count": 156,
   "metadata": {},
   "outputs": [],
   "source": [
    "import pandas as pd\n",
    "from sklearn.feature_extraction.text import TfidfVectorizer\n",
    "from sklearn.metrics.pairwise import cosine_similarity"
   ]
  },
  {
   "attachments": {},
   "cell_type": "markdown",
   "metadata": {},
   "source": [
    "Definimos un rango de datos"
   ]
  },
  {
   "cell_type": "code",
   "execution_count": 167,
   "metadata": {},
   "outputs": [],
   "source": [
    "#Decidi tomar esta desicion ya que al entrenar mi modelo con todos los datos me daba error de memoria, a mi RAM no le da, consulté la situación y me aconsejaron\n",
    "# Eliminar las columnas que no eran necesarias pero aún así tampoco pude, intente de otras formas más y no lo logré, asi que para presentar algo, tome solo 1000 datos\n",
    "#Al tener solo esa cantidad no va a funcion de la manera correcta pero el codigo para realizarlo es el correcto(espero).\n",
    "Df= df.sample(n=1000, random_state=42)"
   ]
  },
  {
   "cell_type": "code",
   "execution_count": 158,
   "metadata": {},
   "outputs": [
    {
     "data": {
      "text/plain": [
       "(1000, 20)"
      ]
     },
     "execution_count": 158,
     "metadata": {},
     "output_type": "execute_result"
    }
   ],
   "source": [
    "Df.shape"
   ]
  },
  {
   "cell_type": "code",
   "execution_count": 168,
   "metadata": {},
   "outputs": [],
   "source": [
    "Df.reset_index(drop=True, inplace=True)"
   ]
  },
  {
   "cell_type": "code",
   "execution_count": 169,
   "metadata": {},
   "outputs": [
    {
     "data": {
      "text/plain": [
       "0                    Extraction\n",
       "1              Print the Legend\n",
       "2                 The Glass Key\n",
       "3             The Sunshine Boys\n",
       "4                      No Mercy\n",
       "                 ...           \n",
       "995          The Pick-up Artist\n",
       "996                    Sky High\n",
       "997    Bus Riley's Back In Town\n",
       "998                   Hadewijch\n",
       "999                     Ed Wood\n",
       "Name: title, Length: 1000, dtype: object"
      ]
     },
     "execution_count": 169,
     "metadata": {},
     "output_type": "execute_result"
    }
   ],
   "source": [
    "Df['title']"
   ]
  },
  {
   "cell_type": "code",
   "execution_count": 170,
   "metadata": {},
   "outputs": [],
   "source": [
    "Df.dropna(subset=[\"title\", \"genres\", \"tagline\", \"overview\"], inplace=True)"
   ]
  },
  {
   "attachments": {},
   "cell_type": "markdown",
   "metadata": {},
   "source": [
    "Creamos la matriz similar"
   ]
  },
  {
   "cell_type": "code",
   "execution_count": 171,
   "metadata": {},
   "outputs": [],
   "source": [
    "# Aplicar la técnica TF-IDF para representar los textos en forma numérica\n",
    "tfidf = TfidfVectorizer(stop_words=\"english\", ngram_range=(1, 2))\n",
    "tfidf_matrix = tfidf.fit_transform(Df[\"title\"] + \" \" + str(Df[\"genres\"]) + \" \" + Df[\"tagline\"] + \" \" + Df[\"overview\"])\n",
    "cosine_sim = cosine_similarity(tfidf_matrix, tfidf_matrix)"
   ]
  },
  {
   "attachments": {},
   "cell_type": "markdown",
   "metadata": {},
   "source": [
    "Exportamos el archivo pickle"
   ]
  },
  {
   "cell_type": "code",
   "execution_count": 172,
   "metadata": {},
   "outputs": [],
   "source": [
    "with open('similarity_matrix.pickle', 'wb') as f:\n",
    "    pickle.dump(cosine_sim, f)"
   ]
  },
  {
   "attachments": {},
   "cell_type": "markdown",
   "metadata": {},
   "source": [
    "Creamos la función para evaluar el modelo"
   ]
  },
  {
   "cell_type": "code",
   "execution_count": 174,
   "metadata": {},
   "outputs": [],
   "source": [
    "\n",
    "# Función que recibe un título de película y devuelve las 5 películas más similares\n",
    "def recomendacion(titulo):\n",
    "    # Buscar la fila correspondiente al título de la película\n",
    "    idx = Df.index[Df[\"title\"].str.lower() == titulo.lower()].tolist()\n",
    "    if len(idx) == 0:\n",
    "        return \"Película no encontrada\"\n",
    "    else:\n",
    "        idx = idx[0]\n",
    "    \n",
    "    # Calcular la similitud de la película con todas las demás películas\n",
    "    sim_scores = list(enumerate(cosine_sim[idx]))\n",
    "    \n",
    "    # Ordenar las películas según su similitud y seleccionar las 5 más similares\n",
    "    sim_scores = sorted(sim_scores, key=lambda x: x[1], reverse=True)[1:6]\n",
    "    \n",
    "    # Obtener los índices de las películas recomendadas\n",
    "    movie_indices = [i[0] for i in sim_scores]\n",
    "    \n",
    "    # Devolver los títulos de las películas recomendadas\n",
    "    return list(Df[\"title\"].iloc[movie_indices])\n"
   ]
  },
  {
   "attachments": {},
   "cell_type": "markdown",
   "metadata": {},
   "source": [
    "Ejemplo"
   ]
  },
  {
   "cell_type": "code",
   "execution_count": 175,
   "metadata": {},
   "outputs": [
    {
     "data": {
      "text/plain": [
       "['Lovers and Liars', 'Premam', 'Rumble', 'To the Fore', 'Adventure']"
      ]
     },
     "execution_count": 175,
     "metadata": {},
     "output_type": "execute_result"
    }
   ],
   "source": [
    "recomendacion('Extraction')"
   ]
  },
  {
   "attachments": {},
   "cell_type": "markdown",
   "metadata": {},
   "source": [
    "Guardamos en un nuevo df para la API"
   ]
  },
  {
   "cell_type": "code",
   "execution_count": 176,
   "metadata": {},
   "outputs": [],
   "source": [
    "Df.to_csv('Df_recomendacion.csv', index=False)"
   ]
  },
  {
   "attachments": {},
   "cell_type": "markdown",
   "metadata": {},
   "source": [
    "------------------------------"
   ]
  }
 ],
 "metadata": {
  "kernelspec": {
   "display_name": "Python 3",
   "language": "python",
   "name": "python3"
  },
  "language_info": {
   "codemirror_mode": {
    "name": "ipython",
    "version": 3
   },
   "file_extension": ".py",
   "mimetype": "text/x-python",
   "name": "python",
   "nbconvert_exporter": "python",
   "pygments_lexer": "ipython3",
   "version": "3.11.0"
  },
  "orig_nbformat": 4
 },
 "nbformat": 4,
 "nbformat_minor": 2
}
